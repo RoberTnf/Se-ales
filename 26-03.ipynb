{
 "cells": [
  {
   "cell_type": "code",
   "execution_count": 1,
   "metadata": {
    "collapsed": false
   },
   "outputs": [
    {
     "name": "stdout",
     "output_type": "stream",
     "text": [
      "Populating the interactive namespace from numpy and matplotlib\n"
     ]
    }
   ],
   "source": [
    "%pylab inline"
   ]
  },
  {
   "cell_type": "code",
   "execution_count": 2,
   "metadata": {
    "collapsed": true
   },
   "outputs": [],
   "source": [
    "def base_tiempos(t1=-2,t2=2,fm=44100):\n",
    "    #Hay que muestrear al doble de la frecuencia\n",
    "    T=t2-t1 #Periodo de análisis\n",
    "    int_muestreo=1/fm #Distancia entre muestras\n",
    "    num_mue_tot=T*fm\n",
    "    \n",
    "    #fm Frecuencia de muestreo\n",
    "\n",
    "    tiempo = t1 + arange(num_mue_tot)/fm  #Por algún motivo queremos el intervalo abierto a la derecha\n",
    "    return(tiempo)\n",
    "\n",
    "def escalon(t,t0=0):\n",
    "    \"\"\"u(t-t0)\"\"\"\n",
    "    j = zeros(len(t))\n",
    "    i = ones(len(t))\n",
    "    return(concatenate((j[t<t0],array((0.5,)),i[t>t0])))\n",
    "\n",
    "def base_frecuencias(N=44100,fm=44100):\n",
    "    \"\"\"\n",
    "    Calcula las frecuencias asociadas a una ventana de N muestras a una frecuencia de muestreo de fm\n",
    "    \"\"\"\n",
    "    frecuencias = -fm / 2 + arange(N)*fm/N\n",
    "    return(frecuencias)\n",
    "\n",
    "def tono(tiempo, fr = 1000, amp = 1, fas = 0):\n",
    "    signal = amp*cos(2*pi*fr*tiempo+fas)\n",
    "    return(signal)\n",
    "\n",
    "def ruido_blanco(tiempo, med = 0.0, sig = 1):\n",
    "    ruido = random.normal(med,sig,tiempo.size)\n",
    "    return(ruido)    \n",
    "\n",
    "def gabor(tiempo, amp=1, frec=1000, tpos=0, sig=1, fas=0):\n",
    "    tt = (tiempo - tpos) / sig\n",
    "    signal = amp * tono(tiempo,frec,1.0,fas) * exp(-tt*tt)\n",
    "    return(signal)\n",
    "\n",
    "def escalon2(t):\n",
    "    f = zeros(len(t))\n",
    "    for i, el in enumerate(t):\n",
    "        if t[i] > 0:\n",
    "            f[i] = 1\n",
    "        elif t[i] == 0:\n",
    "            f[i] = 0.5\n",
    "    return(f)"
   ]
  },
  {
   "cell_type": "code",
   "execution_count": null,
   "metadata": {
    "collapsed": true
   },
   "outputs": [],
   "source": [
    "class SimulaSignal:\n",
    "    t1=0.0\n",
    "    t2=0.0\n",
    "    fm=44100\n",
    "    T=0\n",
    "    tau=0\n",
    "    N=0\n",
    "    tam_ven=1024\n",
    "    res=0\n",
    "    tiempo=array([])\n",
    "    frec=array([])\n",
    "    frec_pos=array([])\n",
    "    ss=array([])\n",
    "    ff=array([])\n",
    "    def __init__(self,t1=0,\n",
    "                 \n",
    "#Completar"
   ]
  }
 ],
 "metadata": {
  "kernelspec": {
   "display_name": "Python 3",
   "language": "python",
   "name": "python3"
  },
  "language_info": {
   "codemirror_mode": {
    "name": "ipython",
    "version": 3
   },
   "file_extension": ".py",
   "mimetype": "text/x-python",
   "name": "python",
   "nbconvert_exporter": "python",
   "pygments_lexer": "ipython3",
   "version": "3.4.3"
  }
 },
 "nbformat": 4,
 "nbformat_minor": 0
}
