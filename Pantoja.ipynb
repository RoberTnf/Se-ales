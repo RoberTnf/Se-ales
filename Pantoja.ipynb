{
 "cells": [
  {
   "cell_type": "code",
   "execution_count": 1,
   "metadata": {
    "collapsed": false
   },
   "outputs": [
    {
     "name": "stdout",
     "output_type": "stream",
     "text": [
      "Populating the interactive namespace from numpy and matplotlib\n"
     ]
    }
   ],
   "source": [
    "%pylab inline\n",
    "rcParams['figure.figsize'] = (10.0, 9.0)\n",
    "import struct as st\n",
    "import wave\n",
    "import pyaudio as pya"
   ]
  },
  {
   "cell_type": "code",
   "execution_count": 15,
   "metadata": {
    "collapsed": false
   },
   "outputs": [],
   "source": [
    "win = wave.open(\"Pantoja/Isa.wav\",\"r\") #Leemos el fichero"
   ]
  },
  {
   "cell_type": "code",
   "execution_count": 3,
   "metadata": {
    "collapsed": false
   },
   "outputs": [
    {
     "data": {
      "text/plain": [
       "2"
      ]
     },
     "execution_count": 3,
     "metadata": {},
     "output_type": "execute_result"
    }
   ],
   "source": [
    "win.getnchannels() #Número de canales (Estéreo)."
   ]
  },
  {
   "cell_type": "code",
   "execution_count": 4,
   "metadata": {
    "collapsed": false
   },
   "outputs": [
    {
     "data": {
      "text/plain": [
       "2"
      ]
     },
     "execution_count": 4,
     "metadata": {},
     "output_type": "execute_result"
    }
   ],
   "source": [
    "win.getsampwidth() #Anchura de muestra en bytes."
   ]
  },
  {
   "cell_type": "code",
   "execution_count": 5,
   "metadata": {
    "collapsed": false
   },
   "outputs": [
    {
     "data": {
      "text/plain": [
       "44100"
      ]
     },
     "execution_count": 5,
     "metadata": {},
     "output_type": "execute_result"
    }
   ],
   "source": [
    "win.getframerate() #Frecuencia de muestreo."
   ]
  },
  {
   "cell_type": "code",
   "execution_count": 6,
   "metadata": {
    "collapsed": false
   },
   "outputs": [
    {
     "data": {
      "text/plain": [
       "8095104"
      ]
     },
     "execution_count": 6,
     "metadata": {},
     "output_type": "execute_result"
    }
   ],
   "source": [
    "win.getnframes() #Número total de frames. (La muestra del canal izq y del derecho)."
   ]
  },
  {
   "cell_type": "code",
   "execution_count": 7,
   "metadata": {
    "collapsed": false
   },
   "outputs": [
    {
     "data": {
      "text/plain": [
       "183.56244897959184"
      ]
     },
     "execution_count": 7,
     "metadata": {},
     "output_type": "execute_result"
    }
   ],
   "source": [
    "win.getnframes()/win.getframerate() #Duración del wav."
   ]
  },
  {
   "cell_type": "markdown",
   "metadata": {},
   "source": [
    "Si leemos una muestra, debemos de rebobinar si queremos volver a leerla."
   ]
  },
  {
   "cell_type": "code",
   "execution_count": 8,
   "metadata": {
    "collapsed": false
   },
   "outputs": [
    {
     "name": "stdout",
     "output_type": "stream",
     "text": [
      "b'\\x00\\x00\\x00\\x00'\n"
     ]
    }
   ],
   "source": [
    "primer_frame = win.readframes(1) #Leemos el primer frame\n",
    "print(primer_frame) #Dos muestras"
   ]
  },
  {
   "cell_type": "code",
   "execution_count": 9,
   "metadata": {
    "collapsed": false
   },
   "outputs": [
    {
     "data": {
      "text/plain": [
       "255"
      ]
     },
     "execution_count": 9,
     "metadata": {},
     "output_type": "execute_result"
    }
   ],
   "source": [
    "win.rewind()\n",
    "diez_seg = win.readframes(10*44100)\n",
    "#print(diez_seg) #Es una cadena ENOOOORME\n",
    "diez_seg[99999]"
   ]
  },
  {
   "cell_type": "code",
   "execution_count": 10,
   "metadata": {
    "collapsed": false
   },
   "outputs": [
    {
     "data": {
      "text/plain": [
       "(0,)"
      ]
     },
     "execution_count": 10,
     "metadata": {},
     "output_type": "execute_result"
    }
   ],
   "source": [
    "des = st.unpack(\"<h\", primer_frame[0:2])\n",
    "\n",
    "des"
   ]
  },
  {
   "cell_type": "code",
   "execution_count": 11,
   "metadata": {
    "collapsed": false
   },
   "outputs": [
    {
     "name": "stdout",
     "output_type": "stream",
     "text": [
      "b'\\x00\\x00\\x00\\x00'\n"
     ]
    }
   ],
   "source": [
    "win.rewind()\n",
    "a = win.readframes(win.getnframes())\n",
    "print(a[:4])"
   ]
  },
  {
   "cell_type": "code",
   "execution_count": 12,
   "metadata": {
    "collapsed": false
   },
   "outputs": [
    {
     "ename": "error",
     "evalue": "unpack requires a bytes object of length 4",
     "output_type": "error",
     "traceback": [
      "\u001b[1;31m---------------------------------------------------------------------------\u001b[0m",
      "\u001b[1;31merror\u001b[0m                                     Traceback (most recent call last)",
      "\u001b[1;32m<ipython-input-12-404d7eb2f816>\u001b[0m in \u001b[0;36m<module>\u001b[1;34m()\u001b[0m\n\u001b[1;32m----> 1\u001b[1;33m \u001b[0mb\u001b[0m \u001b[1;33m=\u001b[0m \u001b[0mst\u001b[0m\u001b[1;33m.\u001b[0m\u001b[0munpack\u001b[0m\u001b[1;33m(\u001b[0m\u001b[1;34m\"<hh\"\u001b[0m\u001b[1;33m,\u001b[0m \u001b[0ma\u001b[0m\u001b[1;33m)\u001b[0m \u001b[1;31m#BUUUUUH\u001b[0m\u001b[1;33m\u001b[0m\u001b[0m\n\u001b[0m",
      "\u001b[1;31merror\u001b[0m: unpack requires a bytes object of length 4"
     ]
    }
   ],
   "source": [
    "b = st.unpack(\"<hh\", a) #BUUUUUH\n"
   ]
  },
  {
   "cell_type": "code",
   "execution_count": null,
   "metadata": {
    "collapsed": false
   },
   "outputs": [],
   "source": [
    "b = st.unpack(\"<hh\", a[:4])\n",
    "b"
   ]
  },
  {
   "cell_type": "code",
   "execution_count": null,
   "metadata": {
    "collapsed": false
   },
   "outputs": [],
   "source": [
    "b = st.unpack(\"<{}h\".format(win.getnchannels()*win.getnframes()), a)\n",
    "#print(b) Tarda demasiado"
   ]
  },
  {
   "cell_type": "code",
   "execution_count": null,
   "metadata": {
    "collapsed": false
   },
   "outputs": [],
   "source": [
    "ci = b[:len(b):2]\n",
    "cd = b[1:len(b):2]"
   ]
  },
  {
   "cell_type": "code",
   "execution_count": null,
   "metadata": {
    "collapsed": false
   },
   "outputs": [],
   "source": [
    "#Análsis en 10 segundos\n",
    "subplot(2,1,1)\n",
    "plot(arange(len(cd[:10*44100]))/44100, ci[:10*44100]) #Ahora muestra segundos\n",
    "ylabel(\"Canal Izquierdo\")\n",
    "subplot(2,1,2)\n",
    "plot(arange(len(cd[:10*44100]))/44100, cd[:10*44100])\n",
    "ylabel(\"Canal Derecho\")\n",
    "xlabel(\"Tiempo (S)\")"
   ]
  },
  {
   "cell_type": "markdown",
   "metadata": {},
   "source": [
    "Creamos una ventana de análisis"
   ]
  },
  {
   "cell_type": "code",
   "execution_count": null,
   "metadata": {
    "collapsed": false
   },
   "outputs": [],
   "source": [
    "peri_anal = 1 #Periodo de análisis, relación inversa con la resolución que queremos (1Hz -> 1 Seg)\n",
    "T = peri_anal\n",
    "Fci = fft.fft(ci[0:int(T*44100)])/(T*44100) #Transformadas\n",
    "Fcd = fft.fft(cd[0:int(T*44100)])/(T*44100)\n",
    "plot(arange(0,44100,1),abs(Fci))"
   ]
  },
  {
   "cell_type": "markdown",
   "metadata": {},
   "source": [
    "Se ve DEMASIADO si haces zoom, reduciremos la ventana a 0.5s -> 2Hz"
   ]
  },
  {
   "cell_type": "code",
   "execution_count": null,
   "metadata": {
    "collapsed": false
   },
   "outputs": [],
   "source": [
    "peri_anal = 0.5#Periodo de análisis, relación inversa con la resolución que queremos (1Hz -> 1 Seg)\n",
    "T2 = peri_anal\n",
    "Fci2 = fft.fft(ci[int(T2*44100):int(2*T2*44100)])/(T2*44100) #Transformadas\n",
    "Fcd2 = fft.fft(cd[int(T2*44100):int(2*T2*44100)])/(T2*44100)\n",
    "plot(arange(0,44100,1/T2),abs(Fci2))"
   ]
  },
  {
   "cell_type": "code",
   "execution_count": null,
   "metadata": {
    "collapsed": false
   },
   "outputs": [],
   "source": [
    "peri_anal = 0.25#Periodo de análisis, relación inversa con la resolución que queremos (1Hz -> 1 Seg)\n",
    "T4 = peri_anal\n",
    "Fci4 = fft.fft(ci[int(3*T4*44100):int(4*T4*44100)])/(T4*44100) #Transformadas\n",
    "Fcd4 = fft.fft(cd[int(3*T4*44100):int(4*T4*44100)])/(T4*44100)\n",
    "plot(arange(0,44100,1/T4),abs(Fci4))"
   ]
  },
  {
   "cell_type": "code",
   "execution_count": null,
   "metadata": {
    "collapsed": false
   },
   "outputs": [],
   "source": [
    "peri_anal = 0.125 #Periodo de análisis, relación inversa con la resolución que queremos (1Hz -> 1 Seg)\n",
    "T8 = peri_anal\n",
    "Fci8 = fft.fft(ci[int(7*T8*44100):int(8*T8*44100)])/(T8*44100) #Transformadas\n",
    "Fcd8 = fft.fft(cd[int(7*T8*44100):int(8*T8*44100)])/(T8*44100)\n",
    "plot(arange(0,44100,1/T8),abs(Fci8))"
   ]
  },
  {
   "cell_type": "markdown",
   "metadata": {},
   "source": [
    "Todos juntos! (Y mirando el la0)"
   ]
  },
  {
   "cell_type": "code",
   "execution_count": null,
   "metadata": {
    "collapsed": false
   },
   "outputs": [],
   "source": [
    "plot(arange(0,44100,1/T8),abs(Fci8),label=\"w0 = 8 Hz\")\n",
    "plot(arange(0,44100,1/T4),abs(Fci4),label=\"w0 = 4 Hz\")\n",
    "plot(arange(0,44100,1/T2),abs(Fci2),label=\"w0 = 2 Hz\")\n",
    "plot(arange(0,44100,1/T),abs(Fci),label=\"w0 = 1 Hz\")\n",
    "legend(loc=\"best\")\n",
    "xlabel(\"Frecuencia (Hz)\")\n",
    "xlim(750,1000)"
   ]
  },
  {
   "cell_type": "markdown",
   "metadata": {},
   "source": [
    "# 12/03/15"
   ]
  },
  {
   "cell_type": "code",
   "execution_count": null,
   "metadata": {
    "collapsed": false
   },
   "outputs": [],
   "source": [
    "(ncanales, ancho_muestra, frec_mues, nframes, comptipo, compnombre) = win.getparams()\n"
   ]
  },
  {
   "cell_type": "markdown",
   "metadata": {},
   "source": [
    "# Espectrograma"
   ]
  },
  {
   "cell_type": "code",
   "execution_count": null,
   "metadata": {
    "collapsed": false
   },
   "outputs": [],
   "source": [
    "spec10seg = specgram(ci[0:10*44100],512,frec_mues)\n",
    "\n",
    "resolucionFrec = (512/44100)**-1\n",
    "print(resolucionFrec)"
   ]
  },
  {
   "cell_type": "markdown",
   "metadata": {},
   "source": [
    "Podemos ver que se ha suprimido información a partir de 15000 Hz"
   ]
  },
  {
   "cell_type": "code",
   "execution_count": null,
   "metadata": {
    "collapsed": false
   },
   "outputs": [],
   "source": [
    "#Aumentamos la ventana.\n",
    "spec10seg = specgram(ci[0:10*44100],44100,frec_mues)\n",
    "\n",
    "resolucionFrec = (44100/44100)**-1\n",
    "print(resolucionFrec)"
   ]
  },
  {
   "cell_type": "markdown",
   "metadata": {},
   "source": [
    "A más resolución espectral, menos resolución temporal. (Heisenberg patata)"
   ]
  },
  {
   "cell_type": "code",
   "execution_count": null,
   "metadata": {
    "collapsed": false
   },
   "outputs": [],
   "source": [
    "#Aumentamos el tiempo.\n",
    "spec10seg = specgram(ci[0:100*44100],44100,frec_mues)\n"
   ]
  },
  {
   "cell_type": "code",
   "execution_count": null,
   "metadata": {
    "collapsed": false
   },
   "outputs": [],
   "source": [
    "p = pya.PyAudio()\n",
    "stream = p.open(format = p.get_format_from_width(2), channels = 2, rate = 44100, output = True)"
   ]
  },
  {
   "cell_type": "code",
   "execution_count": null,
   "metadata": {
    "collapsed": false
   },
   "outputs": [],
   "source": [
    "stream.write(a[0:10*4*44100]) #Temazo 10 seg"
   ]
  },
  {
   "cell_type": "markdown",
   "metadata": {},
   "source": [
    "# Comprobamos unpack"
   ]
  },
  {
   "cell_type": "code",
   "execution_count": 14,
   "metadata": {
    "collapsed": false
   },
   "outputs": [
    {
     "name": "stdout",
     "output_type": "stream",
     "text": [
      "b'\\x17\\x00'\n",
      "(23,)\n"
     ]
    }
   ],
   "source": [
    "numero = 23\n",
    "pnumero = st.pack(\"<h\", numero)\n",
    "print(pnumero)\n",
    "dpnumero = st.unpack(\"<h\", pnumero)\n",
    "print(dpnumero)"
   ]
  },
  {
   "cell_type": "markdown",
   "metadata": {},
   "source": [
    "Para escribir un número negativo con signo, el primer bit se usa de signo (1-> neg, 0-> pos). Con el resto calculamos el complemento, y sumamos uno.\n",
    "\n",
    "1101 -> - (010+1) = -3"
   ]
  },
  {
   "cell_type": "markdown",
   "metadata": {
    "collapsed": false
   },
   "source": [
    "# 16-03-15"
   ]
  },
  {
   "cell_type": "markdown",
   "metadata": {},
   "source": [
    "## Creamos un archivo con un tono "
   ]
  },
  {
   "cell_type": "code",
   "execution_count": 16,
   "metadata": {
    "collapsed": true
   },
   "outputs": [],
   "source": [
    "out_wav = wave.open(\"Pantoja/prueba.wav\", \"w\")"
   ]
  },
  {
   "cell_type": "code",
   "execution_count": 17,
   "metadata": {
    "collapsed": true
   },
   "outputs": [],
   "source": [
    "ncanales = 1\n",
    "ancho_muestra = 2 #Bytes, máximo a wav.\n",
    "frec_mues = 44100\n",
    "nframes = 44100*10\n",
    "comptipo = \"NONE\"\n",
    "compnombre = \"not compressed\"\n",
    "\n",
    "params = (ncanales, ancho_muestra, frec_mues, nframes, comptipo, compnombre)\n",
    "out_wav.setparams(params)"
   ]
  },
  {
   "cell_type": "markdown",
   "metadata": {},
   "source": [
    "El programa del otro día:"
   ]
  },
  {
   "cell_type": "code",
   "execution_count": 18,
   "metadata": {
    "collapsed": true
   },
   "outputs": [],
   "source": [
    "def base_tiempos(t1=-2,t2=2,fm=44100):\n",
    "    #Hay que muestrear al doble de la frecuencia\n",
    "    T=t2-t1 #Periodo de análisis\n",
    "    int_muestreo=1/fm #Distancia entre muestras\n",
    "    num_mue_tot=T*fm\n",
    "    \n",
    "    #fm Frecuencia de muestreo\n",
    "\n",
    "    tiempo = t1 + arange(num_mue_tot)/fm  #Por algún motivo queremos el intervalo abierto a la derecha\n",
    "    return(tiempo)\n",
    "\n",
    "def escalon(t,t0=0):\n",
    "    \"\"\"u(t-t0)\"\"\"\n",
    "    j = zeros(len(t))\n",
    "    i = ones(len(t))\n",
    "    return(concatenate((j[t<t0],array((0.5,)),i[t>t0])))\n",
    "\n",
    "def base_frecuencias(N=44100,fm=44100):\n",
    "    \"\"\"\n",
    "    Calcula las frecuencias asociadas a una ventana de N muestras a una frecuencia de muestreo de fm\n",
    "    \"\"\"\n",
    "    frecuencias = -fm / 2 + arange(N)*fm/N\n",
    "    return(frecuencias)\n",
    "\n",
    "def tono(tiempo, fr = 1000, amp = 1, fas = 0):\n",
    "    signal = amp*cos(2*pi*fr*tiempo+fas)\n",
    "    return(signal)\n",
    "\n",
    "def ruido_blanco(tiempo, med = 0.0, sig = 1):\n",
    "    ruido = random.normal(med,sig,tiempo.size)\n",
    "    return(ruido)    \n",
    "\n",
    "def gabor(tiempo, amp=1, frec=1000, tpos=0, sig=1, fas=0):\n",
    "    tt = (tiempo - tpos) / sig\n",
    "    signal = amp * tono(tiempo,frec,1.0,fas) * exp(-tt*tt)\n",
    "    return(signal)\n",
    "\n",
    "def escalon2(t):\n",
    "    f = zeros(len(t))\n",
    "    for i, el in enumerate(t):\n",
    "        if t[i] > 0:\n",
    "            f[i] = 1\n",
    "        elif t[i] == 0:\n",
    "            f[i] = 0.5\n",
    "    return(f)"
   ]
  },
  {
   "cell_type": "code",
   "execution_count": 23,
   "metadata": {
    "collapsed": false
   },
   "outputs": [
    {
     "data": {
      "text/plain": [
       "[<matplotlib.lines.Line2D at 0x7ffbf7032d68>]"
      ]
     },
     "execution_count": 23,
     "metadata": {},
     "output_type": "execute_result"
    },
    {
     "data": {
      "image/png": "[encoded data removed]",
      "text/plain": [
       "<matplotlib.figure.Figure at 0x7ffbf3a30898>"
      ]
     },
     "metadata": {},
     "output_type": "display_data"
    }
   ],
   "source": [
    "tiempos = base_tiempos(0,10)\n",
    "ss = gabor(tiempos, tpos=5)\n",
    "plot(tiempos,ss)"
   ]
  },
  {
   "cell_type": "markdown",
   "metadata": {},
   "source": [
    "Tenemos 8 Bytes (Float), pero solo nos caben  2 Bytes. -> perdemos precisión en la amplitud (voltaje), cuantización de la señal."
   ]
  },
  {
   "cell_type": "code",
   "execution_count": 38,
   "metadata": {
    "collapsed": false
   },
   "outputs": [
    {
     "data": {
      "text/plain": [
       "[<matplotlib.lines.Line2D at 0x7ffbf6f06588>]"
      ]
     },
     "execution_count": 38,
     "metadata": {},
     "output_type": "execute_result"
    },
    {
     "data": {
      "image/png": "[encoded data removed]",
      "text/plain": [
       "<matplotlib.figure.Figure at 0x7ffbf6feb358>"
      ]
     },
     "metadata": {},
     "output_type": "display_data"
    }
   ],
   "source": [
    "ssc = zeros(ss.shape, dtype=\"int16\")\n",
    "ssc = int16((ss-min(ss))/(max(ss)-min(ss))*65535 - 32768) #Normalizamos\n",
    "\n",
    "plot(tiempos,ssc)"
   ]
  },
  {
   "cell_type": "code",
   "execution_count": 43,
   "metadata": {
    "collapsed": false
   },
   "outputs": [],
   "source": [
    "stream = st.pack(\"<{}h\".format(len(ssc)), *ssc)\n",
    "out_wav.writeframes(stream)"
   ]
  },
  {
   "cell_type": "code",
   "execution_count": 44,
   "metadata": {
    "collapsed": true
   },
   "outputs": [],
   "source": [
    "out_wav.close()"
   ]
  },
  {
   "cell_type": "code",
   "execution_count": null,
   "metadata": {
    "collapsed": true
   },
   "outputs": [],
   "source": []
  }
 ],
 "metadata": {
  "kernelspec": {
   "display_name": "Python 3",
   "language": "python",
   "name": "python3"
  },
  "language_info": {
   "codemirror_mode": {
    "name": "ipython",
    "version": 3
   },
   "file_extension": ".py",
   "mimetype": "text/x-python",
   "name": "python",
   "nbconvert_exporter": "python",
   "pygments_lexer": "ipython3",
   "version": "3.4.3"
  }
 },
 "nbformat": 4,
 "nbformat_minor": 0
}
